{
 "cells": [
  {
   "cell_type": "code",
   "execution_count": null,
   "metadata": {},
   "outputs": [],
   "source": [
    "import psycopg as pg\n",
    "import pandas as pd\n",
    "from progressbar import progressbar"
   ]
  },
  {
   "cell_type": "code",
   "execution_count": null,
   "metadata": {},
   "outputs": [],
   "source": [
    "with pg.connect(\"dbname = whales user = postgres password = NURAFIN\") as connection:\n",
    "    cursor = connection.cursor()\n",
    "    walletswithbalancetimeseries = cursor.execute(\"SELECT DISTINCT(address) FROM public.walletbalancetimeseries\").fetchall()\n"
   ]
  },
  {
   "cell_type": "code",
   "execution_count": null,
   "metadata": {},
   "outputs": [],
   "source": [
    "walletswithbalancetimeseries = list(map(lambda tuple: tuple[0], walletswithbalancetimeseries))"
   ]
  },
  {
   "cell_type": "code",
   "execution_count": null,
   "metadata": {},
   "outputs": [],
   "source": [
    "with pg.connect(\"dbname = whales user = postgres password = NURAFIN\") as connection:\n",
    "    cursor = connection.cursor()\n",
    "    for timeframems, numberofcandlesinperiod in [(24*60*60*1000, 30), (4*60*60*1000, 42)]:\n",
    "        for walletaddress in progressbar(walletswithbalancetimeseries):\n",
    "            df = pd.DataFrame(columns= ['time', 'balance_btc', 'relativebalance', 'btc_price', 'relativeprice'])\n",
    "            wallettimeseries = cursor.execute(\"SELECT time, balance_btc FROM public.walletbalancetimeseries WHERE (address = %s AND time >= 1514764800000 AND MOD(time, %s) = 0) ORDER BY time ASC\", (walletaddress, timeframems)).fetchall()\n",
    "            firstwalletbalance = wallettimeseries[0]\n",
    "            referencebalance = firstwalletbalance[1]\n",
    "            firstcandletime = firstwalletbalance[0]\n",
    "            referenceprice = cursor.execute(\"SELECT close FROM public.klines WHERE time = %s\", (firstcandletime,)).fetchall()[0][0]\n",
    "            for timestamp, balance in progressbar(wallettimeseries): \n",
    "                correspondingprice = cursor.execute(\"SELECT close FROM public.klines WHERE time = %s\", (timestamp,)).fetchall()[0][0]\n",
    "                if timestamp % (timeframems * numberofcandlesinperiod) == 0:\n",
    "                    referencebalance = balance\n",
    "                    referenceprice = correspondingprice\n",
    "                if referencebalance != 0:\n",
    "                    relativebalance = balance\n",
    "                else:\n",
    "                    relativebalance = 1\n",
    "                if referenceprice != 0:\n",
    "                    relativeprice = correspondingprice/referenceprice\n",
    "                else:\n",
    "                    relativeprice = 1\n",
    "                newrow = pd.Series({'time': timestamp, 'balance_btc': balance, 'relativebalance': relativebalance, 'btc_price': correspondingprice, 'relativeprice': relativeprice})\n",
    "                df = pd.concat([df, newrow.to_frame().T], ignore_index= True)\n"
   ]
  }
 ],
 "metadata": {
  "kernelspec": {
   "display_name": "Python 3",
   "language": "python",
   "name": "python3"
  },
  "language_info": {
   "codemirror_mode": {
    "name": "ipython",
    "version": 3
   },
   "file_extension": ".py",
   "mimetype": "text/x-python",
   "name": "python",
   "nbconvert_exporter": "python",
   "pygments_lexer": "ipython3",
   "version": "3.11.1 (tags/v3.11.1:a7a450f, Dec  6 2022, 19:58:39) [MSC v.1934 64 bit (AMD64)]"
  },
  "orig_nbformat": 4,
  "vscode": {
   "interpreter": {
    "hash": "5238573367df39f7286bb46f9ff5f08f63a01a80960060ce41e3c79b190280fa"
   }
  }
 },
 "nbformat": 4,
 "nbformat_minor": 2
}
